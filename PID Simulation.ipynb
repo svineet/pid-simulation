{
 "cells": [
  {
   "cell_type": "code",
   "execution_count": 1,
   "metadata": {},
   "outputs": [],
   "source": [
    "import numpy as np\n",
    "from scipy.integrate import odeint\n",
    "from matplotlib import pyplot as plt\n",
    "\n",
    "%matplotlib inline"
   ]
  },
  {
   "cell_type": "markdown",
   "metadata": {},
   "source": [
    "PI simulation on first order system\n",
    "==="
   ]
  },
  {
   "cell_type": "code",
   "execution_count": 21,
   "metadata": {},
   "outputs": [],
   "source": [
    "F = 1\n",
    "m = 1\n",
    "rho = 1\n",
    "A = 1\n",
    "Cd = 1\n",
    "\n",
    "coeff1 = F/m\n",
    "coeff2 = 0.5*rho*A*(Cd/m)\n",
    "\n",
    "\n",
    "def dvcap_dt(vcap, t, params):\n",
    "    Kp, Ki, v_target = params[\"PID\"]\n",
    "    coeff1, coeff2 = params[\"Model\"]\n",
    "\n",
    "    u, v = vcap\n",
    "    dv_dt = coeff1*u - coeff2*(v**2)\n",
    "    du_dt = Kp*(-dv_dt) + Ki*(v_target - v)\n",
    "    \n",
    "    return [du_dt, dv_dt]"
   ]
  },
  {
   "cell_type": "code",
   "execution_count": 43,
   "metadata": {},
   "outputs": [],
   "source": [
    "Kp = 10\n",
    "Ki = 10\n",
    "v_target = 20\n",
    "\n",
    "params = {\n",
    "    \"PID\": (Kp, Ki, v_target),\n",
    "    \"Model\": (coeff1, coeff2)\n",
    "}\n",
    "\n",
    "t = np.linspace(0, 30, 1000)\n",
    "res = odeint(dvcap_dt, [0, 0], t, args=(params, ))\n",
    "u, v = res[:, 0], res[:, 1]"
   ]
  },
  {
   "cell_type": "code",
   "execution_count": 44,
   "metadata": {},
   "outputs": [
    {
     "data": {
      "text/plain": [
       "<matplotlib.legend.Legend at 0x7f0552eddad0>"
      ]
     },
     "execution_count": 44,
     "metadata": {},
     "output_type": "execute_result"
    },
    {
     "data": {
      "image/png": "[encoded data removed]",
      "text/plain": [
       "<Figure size 432x288 with 1 Axes>"
      ]
     },
     "metadata": {
      "needs_background": "light"
     },
     "output_type": "display_data"
    }
   ],
   "source": [
    "plt.axhline(y=v_target, color='r', label=\"Target Velocity\")\n",
    "plt.plot(t, v, label=\"Velocity\")\n",
    "plt.legend()"
   ]
  },
  {
   "cell_type": "markdown",
   "metadata": {},
   "source": [
    "PID simulation on second order system\n",
    "==="
   ]
  },
  {
   "cell_type": "markdown",
   "metadata": {},
   "source": [
    "Plant model equations\n",
    "---\n",
    "\n",
    "We require a function that given a tuple $ x = (y, \\frac{dy}{dt} ) $ and $ t $\n",
    "will return $ [ \\frac{dy}{dt}, \\frac{d^2y}{dt^2} ] $\n",
    "\n",
    "This is a dynamic specific to the model of the given plant"
   ]
  },
  {
   "cell_type": "code",
   "execution_count": 45,
   "metadata": {},
   "outputs": [],
   "source": [
    "def dycap_dt(x, t):\n",
    "    kp = 2.0\n",
    "    tau = 3.0\n",
    "    zeta = 0.05\n",
    "    dx = 10.0\n",
    "\n",
    "    y, dy_dt = x\n",
    "    d2y_dt2 = (-2.0*zeta*tau*dy_dt - y + kp*dx)/tau**2\n",
    "\n",
    "    return [dy_dt, d2y_dt2]"
   ]
  },
  {
   "cell_type": "markdown",
   "metadata": {},
   "source": [
    "Controller equations\n",
    "---"
   ]
  },
  {
   "cell_type": "code",
   "execution_count": null,
   "metadata": {},
   "outputs": [],
   "source": [
    "class SecondOrderPIDController:\n",
    "    def __init__(Ki, Kp, Kd, plant_model):\n",
    "        self.params = Ki, Kp, Kd\n",
    "        self.model = plant_model\n",
    "\n",
    "    def get_du_dt(self, ):\n",
    "        \"\"\"\n",
    "            Expects plant_model to be a function like dycap_dt above.\n",
    "        \"\"\"\n",
    "        "
   ]
  },
  {
   "cell_type": "code",
   "execution_count": null,
   "metadata": {},
   "outputs": [],
   "source": []
  }
 ],
 "metadata": {
  "kernelspec": {
   "display_name": "Python 3",
   "language": "python",
   "name": "python3"
  },
  "language_info": {
   "codemirror_mode": {
    "name": "ipython",
    "version": 3
   },
   "file_extension": ".py",
   "mimetype": "text/x-python",
   "name": "python",
   "nbconvert_exporter": "python",
   "pygments_lexer": "ipython3",
   "version": "3.7.6"
  }
 },
 "nbformat": 4,
 "nbformat_minor": 2
}
