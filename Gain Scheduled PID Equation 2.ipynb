{
 "cells": [
  {
   "cell_type": "code",
   "execution_count": 1,
   "metadata": {},
   "outputs": [],
   "source": [
    "import numpy as np\n",
    "from scipy.integrate import odeint\n",
    "from matplotlib import pyplot as plt\n",
    "\n",
    "%matplotlib inline"
   ]
  },
  {
   "cell_type": "markdown",
   "metadata": {},
   "source": [
    "Equation\n",
    "===\n",
    "\n",
    "The system is governed by the following equation\n",
    "\n",
    "$$ \\dddot{y} + 2.14\\ddot{y} + 9.276\\dot{y} + 4.226y = 4.228x $$"
   ]
  },
  {
   "cell_type": "code",
   "execution_count": 2,
   "metadata": {},
   "outputs": [],
   "source": [
    "def model(y_cap, t, params):\n",
    "    \"\"\"\n",
    "        Given a vector <y, y1, y2> returns <y1, y2, y3> according to equation\n",
    "        above.\n",
    "    \"\"\"\n",
    "    y, y1, y2 = y_cap # y, dy/dt, d2y/dt2\n",
    "    x = params\n",
    "\n",
    "    y3 = -2.14*y2 - 9.276*y1 - 4.226*y + 4.228*x\n",
    "    dy_cap = y1, y2, y3\n",
    "\n",
    "    return dy_cap"
   ]
  },
  {
   "cell_type": "code",
   "execution_count": 3,
   "metadata": {},
   "outputs": [
    {
     "data": {
      "text/plain": [
       "[<matplotlib.lines.Line2D at 0x7f6560faa250>]"
      ]
     },
     "execution_count": 3,
     "metadata": {},
     "output_type": "execute_result"
    },
    {
     "data": {
      "image/png": "[encoded data removed]",
      "text/plain": [
       "<Figure size 432x288 with 1 Axes>"
      ]
     },
     "metadata": {
      "needs_background": "light"
     },
     "output_type": "display_data"
    }
   ],
   "source": [
    "t = np.linspace(0, 1000, num=1000)\n",
    "params = 2 # let x = 2\n",
    "y_cap = odeint(model, (0, 0, 0), t, args=(params, ))\n",
    "\n",
    "plt.plot(y_cap[0])"
   ]
  },
  {
   "cell_type": "code",
   "execution_count": 4,
   "metadata": {},
   "outputs": [],
   "source": [
    "class PIDController:\n",
    "    \"\"\"\n",
    "        v = Final output of plant\n",
    "        u = Input signal to the plant\n",
    "    \"\"\"\n",
    "    def __init__(self, Ki, Kp, Kd, dt, initial_control_var, set_point):\n",
    "        self.params = (Ki, Kp, Kd)\n",
    "\n",
    "        self.sum_error = 0\n",
    "        self.dt = dt\n",
    "\n",
    "        self.prev_v = initial_control_var\n",
    "        self.set_point = set_point\n",
    "\n",
    "    def set_set_point(self, sp):\n",
    "        self.set_point = sp\n",
    "\n",
    "    def set_k_constants(Ki, Kp, Kd):\n",
    "        self.params = (Ki, Kp, Kd)\n",
    "\n",
    "    def get_control_signal(self, v):\n",
    "        \"\"\"\n",
    "            Given the latest measurement of v(t) we obtain new u(t)\n",
    "        \"\"\"\n",
    "        Ki, Kp, Kd = self.params\n",
    "        dt = self.dt\n",
    "        \n",
    "        error = self.set_point - v\n",
    "        self.sum_error += error*dt\n",
    "        derror = (v - self.prev_v)/dt\n",
    "        \n",
    "        u = Kp*error + Ki*self.sum_error + Kd*derror\n",
    "\n",
    "        self.prev_v = v\n",
    "        \n",
    "        return u"
   ]
  },
  {
   "cell_type": "markdown",
   "metadata": {},
   "source": [
    "Simulation\n",
    "---"
   ]
  },
  {
   "cell_type": "code",
   "execution_count": 5,
   "metadata": {},
   "outputs": [
    {
     "data": {
      "text/plain": [
       "[<matplotlib.lines.Line2D at 0x7f65608f3d50>]"
      ]
     },
     "execution_count": 5,
     "metadata": {},
     "output_type": "execute_result"
    },
    {
     "data": {
      "image/png": "[encoded data removed]",
      "text/plain": [
       "<Figure size 432x288 with 1 Axes>"
      ]
     },
     "metadata": {
      "needs_background": "light"
     },
     "output_type": "display_data"
    }
   ],
   "source": [
    "t = np.linspace(0, 1000, num=10000)\n",
    "delta_t = t[1]-t[0]\n",
    "\n",
    "SP = np.ones(t.shape[0])\n",
    "SP[500: 1000] = 0\n",
    "SP[1000: 1500] = 15\n",
    "SP[1500: 2000] = 20\n",
    "SP[2000: ] = 10\n",
    "SP[5000: ] = 24\n",
    "SP[7000: ] = 16\n",
    "\n",
    "plt.plot(SP)"
   ]
  },
  {
   "cell_type": "code",
   "execution_count": 26,
   "metadata": {},
   "outputs": [],
   "source": [
    "controller = PIDController(Ki=0.1, Kp=1.5, Kd=0, dt=delta_t, initial_control_var=0, set_point=SP[0])\n",
    "\n",
    "y_caps = [(0, 0, 0)] # initialize with initial values of y_cap\n",
    "u = np.zeros_like(t)\n",
    "\n",
    "for i in range(9000):\n",
    "    # Here we can also call a function to input PID parameters at each time-step\n",
    "    # params = get_pid_parameters()\n",
    "    # u[i+1] = PID(v[i], SP[i], params, delta_t)\n",
    "\n",
    "    cur_y = y_caps[-1][0]\n",
    "\n",
    "    u[i+1] = controller.get_control_signal(cur_y) # Get next u from current y\n",
    "    y_cap_solved = odeint(model, y_caps[i], t[i:i+2], args=(u[i+1], ))[-1]\n",
    "\n",
    "    y_caps.append(y_cap_solved)\n",
    "\n",
    "    controller.set_set_point(SP[i])"
   ]
  },
  {
   "cell_type": "code",
   "execution_count": 27,
   "metadata": {},
   "outputs": [],
   "source": [
    "y_caps = np.array(y_caps)"
   ]
  },
  {
   "cell_type": "code",
   "execution_count": 28,
   "metadata": {},
   "outputs": [
    {
     "data": {
      "text/plain": [
       "<matplotlib.legend.Legend at 0x7f65600c7450>"
      ]
     },
     "execution_count": 28,
     "metadata": {},
     "output_type": "execute_result"
    },
    {
     "data": {
      "image/png": "[encoded data removed]",
      "text/plain": [
       "<Figure size 432x288 with 1 Axes>"
      ]
     },
     "metadata": {
      "needs_background": "light"
     },
     "output_type": "display_data"
    }
   ],
   "source": [
    "plt.plot(SP, linestyle='dashed', label=\"Set Point\")\n",
    "plt.plot(y_caps[:, 0], label=\"Response\")\n",
    "plt.legend()"
   ]
  },
  {
   "cell_type": "code",
   "execution_count": null,
   "metadata": {},
   "outputs": [],
   "source": []
  }
 ],
 "metadata": {
  "kernelspec": {
   "display_name": "Python 3",
   "language": "python",
   "name": "python3"
  },
  "language_info": {
   "codemirror_mode": {
    "name": "ipython",
    "version": 3
   },
   "file_extension": ".py",
   "mimetype": "text/x-python",
   "name": "python",
   "nbconvert_exporter": "python",
   "pygments_lexer": "ipython3",
   "version": "3.7.6"
  }
 },
 "nbformat": 4,
 "nbformat_minor": 2
}
