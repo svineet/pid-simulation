{
 "cells": [
  {
   "cell_type": "markdown",
   "metadata": {},
   "source": [
    "# Proportional Integral Derivative(PID) Controller\n",
    "Proportional Integral Derivative (PID) control automatically adjusts a control output based on the difference between a set point (SP) and a measured process variable (PV). The value of the controller output $u(t)$ is transferred as the system input.\n",
    "$$e(t) = SP-PV$$\n",
    "$$u(t) = u_{bias} + K_c \\, e(t) + \\frac{K_c}{\\tau_I}\\int_0^t e(t)dt - K_c \\tau_D \\frac{d(PV)}{dt}$$\n",
    "$$u(t) = u_{bias} + K_c \\, e(t) + \\frac{K_c}{\\tau_I}\\sum_{i=1}^{n_t} e_i(t)\\Delta t  - K_c \\tau_D \\frac{PV_{n_t}-PV_{n_t-1}}{\\Delta t}$$\n",
    "The $u_{bias}$ term is a constant that is typically set to the value of $u(t)$when the controller is first switched from manual to automatic mode. This gives \"bumpless\" transfer if the error is zero when the controller is turned on.\n",
    "\n",
    "PID controller is best suited for non-integrating processes, meaning any process that eventually returns to the same output given the same set of inputs and disturbances.\n",
    "\n",
    "Derivative action is used to decrease the oscillations of PV(Process Variable)\n",
    "\n",
    "## IMC(Internal Mode Control) Tuning Correlations:\n",
    "$$\\mathrm{Aggressive\\,Tuning:} \\quad \\tau_c = \\max \\left( 0.1 \\tau_p, 0.8 \\theta_p \\right)$$\n",
    "$$\\mathrm{Moderate\\,Tuning:} \\quad \\tau_c = \\max \\left( 1.0 \\tau_p, 8.0 \\theta_p \\right)$$\n",
    "$$\\mathrm{Conservative\\,Tuning:} \\quad \\tau_c = \\max \\left( 10.0 \\tau_p, 80.0 \\theta_p \\right)$$\n",
    "$$K_c = \\frac{1}{K_p}\\frac{\\tau_p+0.5\\theta_p}{\\left( \\tau_c + 0.5\\theta_p \\right)} \\quad \\quad \\tau_I = \\tau_p + 0.5 \\theta_p \\quad \\quad \\tau_D = \\frac{\\tau_p\\theta_p}{2\\tau_p + \\theta_p}$$\n",
    "\n",
    "## Simple Tuning Rules:\n",
    "Note that with moderate tuning and negligible dead-time $(\\theta_p -> 0\\ and \\tau_c = 1.0 \\tau_p)$, IMC reduces to simple tuning correlations that are easy to recall without a reference book.\n",
    "$$K_c = \\frac{1}{K_p} \\quad \\quad \\tau_I = \\tau_p \\quad \\quad \\tau_D = 0 \\quad \\quad \\mathrm{Simple\\,tuning\\,correlations}$$\n",
    "\n",
    "## Optional Derivative Filter:\n",
    "The optional parameter $\\alpha$ is a derivative filter constant. The filter reduces the effect of measurement noise on the derivative term that can lead to controller output amplification of the noise.\n",
    "$$\\alpha = \\frac{\\tau_c\\left(\\tau_p+0.5\\theta_p\\right)}{\\tau_p\\left(\\tau_c+\\theta_p\\right)}$$\n",
    "The PID with the filter is augmented as:\n",
    "$$u(t) = u_{bias} + K_c \\, e(t) + \\frac{K_c}{\\tau_I}\\int_0^t e(t)dt - K_c \\tau_D \\frac{d(PV)}{dt} - \\alpha \\tau_D \\frac{du(t)}{dt}$$\n",
    "\n",
    "## Anti-Reset Windup:\n",
    "An important feature of a controller with an integral term is to consider the case where the controller output $u(t)$ saturates at an upper or lower bound for an extended period of time. This causes the integral term to accumulate to a large summation that causes the controller to stay at the saturation limit until the integral summation is reduced. Anti-reset windup is that the integral term does not accumulate if the controller output is saturated at an upper or lower limit.\n",
    "\n",
    "## Derivative Kick:\n",
    "Derivative kick occurs because the value of the error changes suddenly whenever the set point is adjusted. The derivative of a sudden jump in the error causes the derivative of the error to be instantaneously large and causes the controller output to saturate for one cycle at either an upper or lower bound. While this momentary jump isn't typically a problem for most systems, a sudden saturation of the controller output can put undue stress on the final control element or potentially disturb the process.\n",
    "\n",
    "To overcome derivative kick, it is assumed that the set point is constant with $(d(SP))/dt=0$\n",
    "\n",
    "$$\\frac{de(t)}{dt} = \\frac{d\\left(SP-PV\\right)}{dt} = \\frac{d\\left(SP\\right)}{dt} - \\frac{d\\left(PV\\right)}{dt} = - \\frac{d\\left(PV\\right)}{dt}$$\n",
    "This modification avoids derivative kick but keeps a derivative term in the PID equation.\n",
    "\n"
   ]
  },
  {
   "cell_type": "markdown",
   "metadata": {},
   "source": [
    "## Assignment: Concentration PID Control\n",
    "Develop a controller to maintain outlet concentration.\n",
    "<img src=\"http://apmonitor.com/pdc/uploads/Main/mixer_schematic.png\" width=\"300\" height=\"300\">\n",
    "\n",
    "Implement a PID controller that maintains the outlet concentration of A in the mixer by automatically adjusting the feed concentration. Assume that the concentration is continuously measured and that the controller should be designed to follow set point changes to 1.5 mol/L and then down to 1.0 mol/L. The maximum feed concentration is 2.0 mol/L and the minimum is 0.0 mol/L. Report the PID tuning parameters and show time plots of the dynamic response of the controller.\n",
    "\n",
    "Assume feed temprature of 100K, constant tank volume V of 100 m3 and an inlet flow rate and outlet flow rate of 100 m3/hr.\n",
    "\n",
    "#### Process Equation:\n",
    "$$\\frac{dc_A V}{dt} = c_{A_{in}} \\dot V_{in} - c_{A_{out}} \\dot V_{out}$$\n",
    "\n",
    "#### Steps To Follow:\n",
    "    1.Simulating Model\n",
    "    2.FOPDT\n",
    "    3.PID Tuning\n",
    "    4.Simulating PID"
   ]
  },
  {
   "cell_type": "code",
   "execution_count": 17,
   "metadata": {},
   "outputs": [],
   "source": [
    "#Importing Dependencies\n",
    "from ipywidgets import interactive\n",
    "import numpy as np\n",
    "import matplotlib.pyplot as plt\n",
    "from scipy.integrate import odeint"
   ]
  },
  {
   "cell_type": "code",
   "execution_count": 18,
   "metadata": {},
   "outputs": [
    {
     "data": {
      "image/png": "[encoded data removed]",
      "text/plain": [
       "<Figure size 432x288 with 2 Axes>"
      ]
     },
     "metadata": {
      "needs_background": "light"
     },
     "output_type": "display_data"
    }
   ],
   "source": [
    "#Simulating Model\n",
    "def mixer(Ca, t, Caf, Tf):\n",
    "    #Inlet and Outlet Volumetric Flow Rates\n",
    "    q = 100\n",
    "    #Volume of mixer\n",
    "    V = 100\n",
    "    dCa = (q*(Caf - Ca))/V\n",
    "    return dCa\n",
    "    \n",
    "def simModel():\n",
    "    #Time span\n",
    "    t = np.linspace(0, 10, 101)\n",
    "    \n",
    "    #Initial Constants\n",
    "    Ca0 = 0\n",
    "    Tf = 300\n",
    "    \n",
    "    #Storing feed concentration responses\n",
    "    Caf = np.zeros(len(t))\n",
    "    #Step-Adding through feed concentration\n",
    "    Caf[25:] = 1\n",
    "    \n",
    "    #Storing outlet concentration response\n",
    "    Ca = np.ones(len(t))*Ca0\n",
    "    \n",
    "    #Simulating Model\n",
    "    for i in range(len(t) - 1):\n",
    "        time = t[i:i+2]\n",
    "        y = odeint(mixer, Ca0, time, args=(Caf[i+1], Tf))\n",
    "        Ca0 = y[-1]\n",
    "        Ca[i+1] = Ca0\n",
    "    \n",
    "    #Plotting\n",
    "    plt.figure()\n",
    "    plt.subplot(2,1,1)\n",
    "    plt.plot(t, Ca, label=\"Ca\")\n",
    "    plt.ylabel('Outlet Concentration')\n",
    "    plt.legend(loc='best')\n",
    "    \n",
    "    plt.subplot(2,1,2)\n",
    "    plt.plot(t, Caf, label=\"Caf\")\n",
    "    plt.ylabel('Fed Concentration')\n",
    "    plt.xlabel('time')\n",
    "    plt.legend(loc='best')\n",
    "    plt.show()\n",
    "\n",
    "simModel()"
   ]
  },
  {
   "cell_type": "markdown",
   "metadata": {},
   "source": [
    "##### FOPDT\n",
    "By analysing the above graph we find that:\n",
    "1. $K_p$ = 1\n",
    "2. $\\theta_p$ = 0\n",
    "3. $\\tau_p$ = 1"
   ]
  },
  {
   "cell_type": "markdown",
   "metadata": {},
   "source": [
    "##### PID Tuning\n",
    "Using simple tuning we get:\n",
    "$$K_c = \\frac{1}{K_p}=1 \\quad \\quad \\tau_I = \\tau_p=1 \\quad \\quad \\tau_D = 0 \\quad \\quad \\mathrm{Simple\\,tuning\\,correlations}$$\n"
   ]
  },
  {
   "cell_type": "code",
   "execution_count": 39,
   "metadata": {},
   "outputs": [],
   "source": [
    "#Simulating PID\n",
    "def PID(Ca2, Ca1, SP, sum_int, delta_t, Kc, tauI, tauD, ubias):\n",
    "    #Error: SP - PV\n",
    "    error = SP - Ca2\n",
    "    #Approximation of Integration of error\n",
    "    sum_int = sum_int + error*delta_t\n",
    "    #Approximation of Differentiation i.e d(PV)/dt\n",
    "    derivative = (Ca2 - Ca1)/delta_t\n",
    "    #Controller Output\n",
    "    u = ubias + Kc*error + (Kc*sum_int)/tauI - (Kc*tauD*derivative)\n",
    "    return u, error, sum_int, derivative\n",
    "\n",
    "def simModelPID(Kc=1, tauI=1, tauD=0.0, ubias=0.0):\n",
    "    #Time-Span\n",
    "    t = np.linspace(0,10,101)\n",
    "    delta_t = t[1] - t[0]\n",
    "    #Initial Constants\n",
    "    Ca0 = 0\n",
    "    Tf = 300\n",
    "    \n",
    "    #Step-Adding through set points(of oulet concentration)\n",
    "    SP = np.ones(len(t))*1.5\n",
    "    SP[50:] = 1.0\n",
    "    \n",
    "    #Storing feed concentration responses\n",
    "    Caf = np.zeros(len(t))\n",
    "    \n",
    "    #Storing outlet concentration response\n",
    "    Ca = np.ones(len(t))*Ca0\n",
    "    \n",
    "    #Storing Propotional error responses\n",
    "    er = np.zeros(len(t))\n",
    "    #Storing Integral error responses\n",
    "    ier = np.zeros(len(t))\n",
    "    #Storing Derivative error responses\n",
    "    der = np.zeros(len(t))\n",
    "    \n",
    "    #Simulating PID+Model\n",
    "    sum_int = 0\n",
    "    for i in range(len(t)-1):\n",
    "        time = t[i:i+2]\n",
    "        if i==0:\n",
    "            u, error, sum_int, derivative = PID(Ca0, 0, SP[i], sum_int, delta_t, Kc, tauI, tauD, ubias)\n",
    "        else:\n",
    "            u, error, sum_int, derivative = PID(Ca0, Ca[i-1], SP[i], sum_int, delta_t, Kc, tauI, tauD, ubias)\n",
    "        #Restricing feed concentration and Anti-Reset Wrapup\n",
    "        if u>=2.0:\n",
    "            u = 2\n",
    "            sum_int = sum_int - error*delta_t\n",
    "        elif u<=0.0:\n",
    "            u = 0\n",
    "            sum_int = sum_int - error*delta_t\n",
    "        er[i+1] = error\n",
    "        ier[i+1] = sum_int\n",
    "        der[i+1] = derivative\n",
    "        Caf[i+1] = u\n",
    "        y = odeint(mixer, Ca0, time, args=(u, Tf))\n",
    "        Ca0 = y[-1]\n",
    "        Ca[i+1] = Ca0\n",
    "        \n",
    "    #Plotting\n",
    "    plt.figure(figsize=(18, 16), dpi= 80, facecolor='w', edgecolor='k')\n",
    "    plt.subplot(5,1,1)\n",
    "    plt.plot(t,Ca,'r',label='Ca')\n",
    "    plt.plot(t,SP,'b',label='Set Point')\n",
    "    plt.plot(t, Caf, 'r--', label='Caf')\n",
    "    plt.legend(loc='best')\n",
    "    plt.ylabel('Outlet Concentration/Process Variable')\n",
    "\n",
    "    plt.subplot(5,1,2)\n",
    "    plt.plot(t, Caf, 'r-', label='Caf')\n",
    "    plt.legend(loc='best')\n",
    "    plt.ylabel('Feed Concentration/Controller Output')\n",
    "\n",
    "\n",
    "    plt.subplot(5,1,3)\n",
    "    plt.plot(t, er, 'g:')\n",
    "    plt.ylabel('Proportional error')\n",
    "\n",
    "    plt.subplot(5,1,4)\n",
    "    plt.plot(t, ier, 'r:')\n",
    "    plt.ylabel('Integral Error')\n",
    "    \n",
    "    plt.subplot(5,1,5)\n",
    "    plt.plot(t, der, 'k:')\n",
    "    plt.ylabel('Derivative Error')\n",
    "    plt.xlabel('Time')\n",
    "    plt.show()"
   ]
  },
  {
   "cell_type": "code",
   "execution_count": 40,
   "metadata": {},
   "outputs": [
    {
     "data": {
      "application/vnd.jupyter.widget-view+json": {
       "model_id": "e9a2da4730fd48fbab2f7c028ee975d5",
       "version_major": 2,
       "version_minor": 0
      },
      "text/plain": [
       "interactive(children=(FloatSlider(value=1.0, description='Kc', max=10.0, min=-5.0), FloatSlider(value=1.0, des…"
      ]
     },
     "metadata": {},
     "output_type": "display_data"
    }
   ],
   "source": [
    "interactive_plot = interactive(simModelPID, Kc=(-5.0,10.0), tauI=(0,50.0), tauD=(0, 50.0), ubias=(-1.0,5.0))\n",
    "interactive_plot"
   ]
  },
  {
   "cell_type": "code",
   "execution_count": null,
   "metadata": {},
   "outputs": [],
   "source": []
  }
 ],
 "metadata": {
  "kernelspec": {
   "display_name": "Python 3",
   "language": "python",
   "name": "python3"
  },
  "language_info": {
   "codemirror_mode": {
    "name": "ipython",
    "version": 3
   },
   "file_extension": ".py",
   "mimetype": "text/x-python",
   "name": "python",
   "nbconvert_exporter": "python",
   "pygments_lexer": "ipython3",
   "version": "3.7.6"
  }
 },
 "nbformat": 4,
 "nbformat_minor": 4
}
