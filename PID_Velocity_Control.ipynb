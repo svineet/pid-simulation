{
 "cells": [
  {
   "cell_type": "code",
   "execution_count": 1,
   "metadata": {},
   "outputs": [],
   "source": [
    "#Importing Dependencies\n",
    "import numpy as np\n",
    "from scipy.integrate import odeint\n",
    "from matplotlib import pyplot as plt\n",
    "from ipywidgets import interactive\n",
    "\n",
    "\n",
    "%matplotlib inline"
   ]
  },
  {
   "cell_type": "code",
   "execution_count": 2,
   "metadata": {},
   "outputs": [],
   "source": [
    "ierror = 0\n",
    "vprev = 0\n",
    "#PID Module that takes input: v(Velocity),SP(Set Point), params(Tuning parameters) and delta_t(Time Interval)\n",
    "#and returns: u(Gas Peddal)\n",
    "def PID(v, SP, params, delta_t):\n",
    "    global ierror\n",
    "    global vprev\n",
    "    error = SP - v\n",
    "    ierror = ierror + error*delta_t\n",
    "    derror = (v - vprev)/delta_t\n",
    "    \n",
    "    #kp,ki,kd = get_parameters()\n",
    "    kp=params[\"kp\"]\n",
    "    ki=params[\"ki\"]\n",
    "    kd=params[\"kd\"]\n",
    "    \n",
    "    u = kp*error + ki*ierror - kd*derror\n",
    "    \n",
    "    #Regenerative Breaking and Anti-Reset Integral Windup\n",
    "    if u>=100:\n",
    "        u = 100\n",
    "        ierror = ierror - error*delta_t\n",
    "    elif u<=-50:\n",
    "        u = -50\n",
    "        ierror = ierror - error*delta_t\n",
    "    \n",
    "    vprev = v\n",
    "    return u"
   ]
  },
  {
   "cell_type": "code",
   "execution_count": 3,
   "metadata": {},
   "outputs": [],
   "source": [
    "#Function used to describe the Car Model\n",
    "def control_system(v, t, u):\n",
    "    #Constants for Process Equation\n",
    "    Cd = 0.24\n",
    "    rho = 1.225\n",
    "    m = 500\n",
    "    A = 5\n",
    "    Fp = 30\n",
    "    load = 200\n",
    "    #Process equation\n",
    "    dv = (Fp*u - (rho*A*Cd*(v**2))/2)/(m + load)\n",
    "    return dv"
   ]
  },
  {
   "cell_type": "code",
   "execution_count": 4,
   "metadata": {},
   "outputs": [],
   "source": [
    "#Here we Simulate out Model+PID controller over time-step of 0.1 Seconds\n",
    "def simulation(kp=1/1.2,ki=1/(1.2*20),kd=1):\n",
    "    #PID Tuning parameters\n",
    "    params = {'kp':kp,'ki':ki,'kd':kd}\n",
    "    \n",
    "    #Time-Span with time-step of 0.1 Seconds\n",
    "    t = np.linspace(0,300,3010)\n",
    "    delta_t = t[1] - t[0]\n",
    "    \n",
    "    #Initialising given velocity\n",
    "    v0 = 0\n",
    "    #Storing velocity responses\n",
    "    v = np.ones(len(t))*v0\n",
    "    \n",
    "    #Storing Gas-Peddal responses\n",
    "    u = np.zeros(len(t))\n",
    "\n",
    "    #Step-Adding through set points(of velocity)\n",
    "    SP = np.ones(len(t))*25\n",
    "    SP[500: 1000] = 0\n",
    "    SP[1000: 1500] = 15\n",
    "    SP[1500: 2000] = 20\n",
    "    SP[2000: ] = 10\n",
    "    \n",
    "    #Simulating the PID+Model system over time-step of 0.1s\n",
    "    for i in range(len(t)-1):\n",
    "        #Here we can also call a function to input PID parameters at each time-step\n",
    "        #params = get_pid_parameters()\n",
    "        u[i+1] = PID(v[i],SP[i],params, delta_t)\n",
    "        y = odeint(control_system, v[i], t[i:i+2], args=(u[i+1],))\n",
    "        v[i+1] = y[-1]\n",
    "    \n",
    "    #Plotting\n",
    "    plt.figure(figsize=(7, 7), dpi= 80, facecolor='w', edgecolor='k')\n",
    "    plt.subplot(2,1,1)\n",
    "    plt.plot(t, v, 'r-', label='v')\n",
    "    plt.plot(t, SP, 'b--', label='SP')\n",
    "    plt.ylabel('Velocity')\n",
    "    plt.legend(loc='best')\n",
    "    plt.subplot(2,1,2)\n",
    "    plt.plot(t, u, 'k', label='u')\n",
    "    plt.ylabel('Gas Peddal')\n",
    "    plt.xlabel('Time')\n",
    "    plt.legend(loc='best')\n"
   ]
  },
  {
   "cell_type": "code",
   "execution_count": 5,
   "metadata": {},
   "outputs": [
    {
     "data": {
      "application/vnd.jupyter.widget-view+json": {
       "model_id": "91d320b89e254210ae13345722629020",
       "version_major": 2,
       "version_minor": 0
      },
      "text/plain": [
       "interactive(children=(FloatSlider(value=0.8333333333333334, description='kp', max=20.0, min=-20.0), FloatSlide…"
      ]
     },
     "metadata": {},
     "output_type": "display_data"
    }
   ],
   "source": [
    "interactive_plt = interactive(simulation, kp=(-20.0,20.0), ki=(-20.0,20.0), kd=(-20.0,20.0))\n",
    "interactive_plt"
   ]
  }
 ],
 "metadata": {
  "kernelspec": {
   "display_name": "Python 3",
   "language": "python",
   "name": "python3"
  },
  "language_info": {
   "codemirror_mode": {
    "name": "ipython",
    "version": 3
   },
   "file_extension": ".py",
   "mimetype": "text/x-python",
   "name": "python",
   "nbconvert_exporter": "python",
   "pygments_lexer": "ipython3",
   "version": "3.7.6"
  }
 },
 "nbformat": 4,
 "nbformat_minor": 2
}
